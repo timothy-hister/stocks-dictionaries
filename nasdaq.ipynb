{
 "cells": [
  {
   "cell_type": "markdown",
   "metadata": {},
   "source": [
    "In this project, we'll mostly play around with Python dictionaries.\n",
    "\n",
    "We'll work with stock market data downloaded from Yahoo Finance using the yahoo_finance Python package. This data consists of the daily stock prices from 2007-1-1 to 2017-04-17 for several hundred stock symbols traded on the NASDAQ stock exchange. Each file in the prices folder has a specific stock symbol for its name.\n",
    "\n",
    "First, we import all the data into a dictionary called `stocks`"
   ]
  },
  {
   "cell_type": "code",
   "execution_count": 17,
   "metadata": {},
   "outputs": [
    {
     "data": {
      "text/plain": [
       "['aal', 'aame', 'aaon', 'aapl', 'aaww', 'flir', 'fll', 'flws', 'flxs', 'fmbi']"
      ]
     },
     "execution_count": 17,
     "metadata": {},
     "output_type": "execute_result"
    }
   ],
   "source": [
    "import pandas as pd\n",
    "import os\n",
    "\n",
    "stocks = {}\n",
    "\n",
    "for fn in os.listdir(\"prices\"):\n",
    "    df = pd.read_csv(os.path.join(\"prices\", fn))\n",
    "    name = fn.split('.')[0]\n",
    "    stocks[name] = df\n",
    "\n",
    "list(stocks.keys())[:5] + list(stocks.keys())[-5:]"
   ]
  },
  {
   "cell_type": "code",
   "execution_count": 2,
   "metadata": {},
   "outputs": [
    {
     "data": {
      "text/html": [
       "<div>\n",
       "<style scoped>\n",
       "    .dataframe tbody tr th:only-of-type {\n",
       "        vertical-align: middle;\n",
       "    }\n",
       "\n",
       "    .dataframe tbody tr th {\n",
       "        vertical-align: top;\n",
       "    }\n",
       "\n",
       "    .dataframe thead th {\n",
       "        text-align: right;\n",
       "    }\n",
       "</style>\n",
       "<table border=\"1\" class=\"dataframe\">\n",
       "  <thead>\n",
       "    <tr style=\"text-align: right;\">\n",
       "      <th></th>\n",
       "      <th>date</th>\n",
       "      <th>close</th>\n",
       "      <th>open</th>\n",
       "      <th>high</th>\n",
       "      <th>low</th>\n",
       "      <th>volume</th>\n",
       "    </tr>\n",
       "  </thead>\n",
       "  <tbody>\n",
       "    <tr>\n",
       "      <th>0</th>\n",
       "      <td>2007-01-03</td>\n",
       "      <td>56.299999</td>\n",
       "      <td>53.889999</td>\n",
       "      <td>56.919998</td>\n",
       "      <td>53.889999</td>\n",
       "      <td>2955600</td>\n",
       "    </tr>\n",
       "    <tr>\n",
       "      <th>1</th>\n",
       "      <td>2007-01-04</td>\n",
       "      <td>58.840000</td>\n",
       "      <td>56.299999</td>\n",
       "      <td>59.150002</td>\n",
       "      <td>53.650002</td>\n",
       "      <td>2614500</td>\n",
       "    </tr>\n",
       "    <tr>\n",
       "      <th>2</th>\n",
       "      <td>2007-01-05</td>\n",
       "      <td>58.290001</td>\n",
       "      <td>58.830002</td>\n",
       "      <td>59.150002</td>\n",
       "      <td>57.900002</td>\n",
       "      <td>1656300</td>\n",
       "    </tr>\n",
       "    <tr>\n",
       "      <th>3</th>\n",
       "      <td>2007-01-08</td>\n",
       "      <td>57.930000</td>\n",
       "      <td>57.299999</td>\n",
       "      <td>60.480000</td>\n",
       "      <td>57.040001</td>\n",
       "      <td>2163200</td>\n",
       "    </tr>\n",
       "    <tr>\n",
       "      <th>4</th>\n",
       "      <td>2007-01-09</td>\n",
       "      <td>57.900002</td>\n",
       "      <td>59.439999</td>\n",
       "      <td>60.200001</td>\n",
       "      <td>57.560001</td>\n",
       "      <td>2098600</td>\n",
       "    </tr>\n",
       "  </tbody>\n",
       "</table>\n",
       "</div>"
      ],
      "text/plain": [
       "         date      close       open       high        low   volume\n",
       "0  2007-01-03  56.299999  53.889999  56.919998  53.889999  2955600\n",
       "1  2007-01-04  58.840000  56.299999  59.150002  53.650002  2614500\n",
       "2  2007-01-05  58.290001  58.830002  59.150002  57.900002  1656300\n",
       "3  2007-01-08  57.930000  57.299999  60.480000  57.040001  2163200\n",
       "4  2007-01-09  57.900002  59.439999  60.200001  57.560001  2098600"
      ]
     },
     "execution_count": 2,
     "metadata": {},
     "output_type": "execute_result"
    }
   ],
   "source": [
    "stocks['aal'].head()"
   ]
  },
  {
   "cell_type": "markdown",
   "metadata": {},
   "source": [
    "Here, we find the average closing value for each stock and find the stocks with the minimum and maximum average close value."
   ]
  },
  {
   "cell_type": "code",
   "execution_count": 3,
   "metadata": {},
   "outputs": [
    {
     "name": "stdout",
     "output_type": "stream",
     "text": [
      "The stock with the minimum average close is 'blfs.'\n",
      "The stock with the maximum average close is 'amzn.'\n"
     ]
    }
   ],
   "source": [
    "avg_close = {stock: stocks[stock]['close'].mean() for stock in stocks}\n",
    "\n",
    "print(f\"The stock with the minimum average close is '{min(avg_close, key=avg_close.get)}.'\")\n",
    "print(f\"The stock with the maximum average close is '{max(avg_close, key=avg_close.get)}.'\")\n"
   ]
  },
  {
   "cell_type": "markdown",
   "metadata": {},
   "source": [
    "Next, we find the stocks with the ten highest trading volumes."
   ]
  },
  {
   "cell_type": "code",
   "execution_count": 4,
   "metadata": {},
   "outputs": [
    {
     "data": {
      "text/plain": [
       "[(2955600, 'aal'),\n",
       " (5500, 'aame'),\n",
       " (146700, 'aaon'),\n",
       " (309579900, 'aapl'),\n",
       " (255800, 'aaww')]"
      ]
     },
     "execution_count": 4,
     "metadata": {},
     "output_type": "execute_result"
    }
   ],
   "source": [
    "volumes = {}\n",
    "\n",
    "for stock in stocks:\n",
    "    for _, row in stocks[stock].iterrows():\n",
    "        if row['date'] in volumes: volumes[row['date']].append((row['volume'], stock))\n",
    "        else: volumes[row['date']] = [(row['volume'], stock)]\n",
    "\n",
    "volumes['2007-01-03'][:5]"
   ]
  },
  {
   "cell_type": "code",
   "execution_count": 5,
   "metadata": {},
   "outputs": [
    {
     "name": "stdout",
     "output_type": "stream",
     "text": [
      "The top ten most traded stocks are: \n",
      "\n",
      "aapl     2235\n",
      "amd       148\n",
      "csco       78\n",
      "cpsh       33\n",
      "cmcsa      32\n",
      "ebay       28\n",
      "bbry       20\n",
      "cpah       13\n",
      "drys        7\n",
      "brcd        5\n",
      "dtype: int64\n"
     ]
    }
   ],
   "source": [
    "most_traded_stock = {}\n",
    "\n",
    "for day in volumes:\n",
    "    max_volume = 0\n",
    "    max_stock = None\n",
    "    for volume, stock in volumes[day]:\n",
    "        if volume >= max_volume:\n",
    "            max_stock = stock\n",
    "            max_volume = volume\n",
    "    most_traded_stock[day] = (max_volume, max_stock)\n",
    "\n",
    "print(f\"The top ten most traded stocks are: \\n\\n\\\n",
    "{pd.Series([most_traded_stock[day][1] for day in most_traded_stock]).value_counts().head(10)}\")"
   ]
  },
  {
   "cell_type": "markdown",
   "metadata": {},
   "source": [
    "Next, we find the top ten days with the highest volume of trades."
   ]
  },
  {
   "cell_type": "code",
   "execution_count": 6,
   "metadata": {},
   "outputs": [],
   "source": [
    "volumes_total = {day: 0 for day in most_traded_stock}\n",
    "\n",
    "for stock in stocks:\n",
    "    for _, row in stocks[stock].iterrows():\n",
    "        volumes_total[row['date']] += row['volume']"
   ]
  },
  {
   "cell_type": "code",
   "execution_count": 7,
   "metadata": {},
   "outputs": [
    {
     "name": "stdout",
     "output_type": "stream",
     "text": [
      "The following ten days had the most trades (in order): \n",
      "\n",
      " ['2008-01-23', '2008-10-10', '2007-07-26', '2008-10-08', '2008-01-22', '2008-02-07', '2008-09-29', '2007-11-08', '2008-01-16', '2008-01-24']\n"
     ]
    }
   ],
   "source": [
    "print(f\"The following ten days had the most trades (in order): \\n\\n \\\n",
    "{[day[0] for day in sorted(volumes_total.items(), key=lambda x: x[1], reverse=True)[:10]]}\")"
   ]
  },
  {
   "cell_type": "markdown",
   "metadata": {},
   "source": [
    "Finally, we find the stocks that were most profitable over the time frame."
   ]
  },
  {
   "cell_type": "code",
   "execution_count": 8,
   "metadata": {},
   "outputs": [],
   "source": [
    "profits = {}\n",
    "\n",
    "for stock in stocks:\n",
    "    initial_price = stocks[stock]['close'].iloc[0]\n",
    "    end_price = stocks[stock]['close'].iloc[-1]\n",
    "    percent_change = (end_price - initial_price) / initial_price\n",
    "    profits[stock] = percent_change"
   ]
  },
  {
   "cell_type": "code",
   "execution_count": 9,
   "metadata": {},
   "outputs": [
    {
     "name": "stdout",
     "output_type": "stream",
     "text": [
      "The following ten stocks grew the most from the start to the end (in order): \n",
      "\n",
      " ['admp', 'adxs', 'arcw', 'blfs', 'amzn', 'anip', 'apdn', 'cui', 'bcli', 'achc'].\n"
     ]
    }
   ],
   "source": [
    "print(f\"The following ten stocks grew the most from the start to the end (in order): \\n\\n \\\n",
    "{[x[0] for x in sorted(profits.items(), key=lambda x: x[1], reverse=True)[:10]]}.\")"
   ]
  }
 ],
 "metadata": {
  "kernelspec": {
   "display_name": "dq",
   "language": "python",
   "name": "python3"
  },
  "language_info": {
   "codemirror_mode": {
    "name": "ipython",
    "version": 3
   },
   "file_extension": ".py",
   "mimetype": "text/x-python",
   "name": "python",
   "nbconvert_exporter": "python",
   "pygments_lexer": "ipython3",
   "version": "3.11.4"
  },
  "orig_nbformat": 4
 },
 "nbformat": 4,
 "nbformat_minor": 2
}
